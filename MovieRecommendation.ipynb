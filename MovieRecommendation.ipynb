{
  "nbformat": 4,
  "nbformat_minor": 0,
  "metadata": {
    "colab": {
      "name": "Untitled4.ipynb",
      "provenance": [],
      "collapsed_sections": []
    },
    "kernelspec": {
      "name": "python3",
      "display_name": "Python 3"
    },
    "language_info": {
      "name": "python"
    }
  },
  "cells": [
    {
      "cell_type": "code",
      "source": [
        "import numpy as np\n",
        "import pandas as pd\n",
        "import matplotlib.pyplot as plt\n",
        "%matplotlib inline"
      ],
      "metadata": {
        "id": "n1CBgn0ppwlG"
      },
      "execution_count": null,
      "outputs": []
    },
    {
      "cell_type": "code",
      "source": [
        "df = pd.read_csv(\"data_csv_Romance.csv\")\n",
        "df.head()"
      ],
      "metadata": {
        "colab": {
          "base_uri": "https://localhost:8080/",
          "height": 206
        },
        "id": "GiQ5keACfARh",
        "outputId": "860c6d18-4864-41b0-e77c-d833d9aca743"
      },
      "execution_count": null,
      "outputs": [
        {
          "output_type": "execute_result",
          "data": {
            "text/plain": [
              "                      name  year  rating                    genre  \\\n",
              "0           Licorice Pizza  2021     7.4   Comedy, Drama, Romance   \n",
              "1          West Side Story  2021     7.3    Crime, Drama, Musical   \n",
              "2     The Power of the Dog  2021     6.9  Drama, Romance, Western   \n",
              "3  Verdens verste menneske  2021     7.9   Comedy, Drama, Romance   \n",
              "4                  365 dni  2020     3.4           Drama, Romance   \n",
              "\n",
              "                                         description  \n",
              "0  The story of Alana Kane and Gary Valentine gro...  \n",
              "1  An adaptation of the 1957 musical, West Side S...  \n",
              "2  Charismatic rancher Phil Burbank inspires fear...  \n",
              "3  The chronicles of four years in the life of Ju...  \n",
              "4  Massimo is a member of the Sicilian Mafia fami...  "
            ],
            "text/html": [
              "\n",
              "  <div id=\"df-783c631a-65b6-4581-8bfe-d6a3ca38d7da\">\n",
              "    <div class=\"colab-df-container\">\n",
              "      <div>\n",
              "<style scoped>\n",
              "    .dataframe tbody tr th:only-of-type {\n",
              "        vertical-align: middle;\n",
              "    }\n",
              "\n",
              "    .dataframe tbody tr th {\n",
              "        vertical-align: top;\n",
              "    }\n",
              "\n",
              "    .dataframe thead th {\n",
              "        text-align: right;\n",
              "    }\n",
              "</style>\n",
              "<table border=\"1\" class=\"dataframe\">\n",
              "  <thead>\n",
              "    <tr style=\"text-align: right;\">\n",
              "      <th></th>\n",
              "      <th>name</th>\n",
              "      <th>year</th>\n",
              "      <th>rating</th>\n",
              "      <th>genre</th>\n",
              "      <th>description</th>\n",
              "    </tr>\n",
              "  </thead>\n",
              "  <tbody>\n",
              "    <tr>\n",
              "      <th>0</th>\n",
              "      <td>Licorice Pizza</td>\n",
              "      <td>2021</td>\n",
              "      <td>7.4</td>\n",
              "      <td>Comedy, Drama, Romance</td>\n",
              "      <td>The story of Alana Kane and Gary Valentine gro...</td>\n",
              "    </tr>\n",
              "    <tr>\n",
              "      <th>1</th>\n",
              "      <td>West Side Story</td>\n",
              "      <td>2021</td>\n",
              "      <td>7.3</td>\n",
              "      <td>Crime, Drama, Musical</td>\n",
              "      <td>An adaptation of the 1957 musical, West Side S...</td>\n",
              "    </tr>\n",
              "    <tr>\n",
              "      <th>2</th>\n",
              "      <td>The Power of the Dog</td>\n",
              "      <td>2021</td>\n",
              "      <td>6.9</td>\n",
              "      <td>Drama, Romance, Western</td>\n",
              "      <td>Charismatic rancher Phil Burbank inspires fear...</td>\n",
              "    </tr>\n",
              "    <tr>\n",
              "      <th>3</th>\n",
              "      <td>Verdens verste menneske</td>\n",
              "      <td>2021</td>\n",
              "      <td>7.9</td>\n",
              "      <td>Comedy, Drama, Romance</td>\n",
              "      <td>The chronicles of four years in the life of Ju...</td>\n",
              "    </tr>\n",
              "    <tr>\n",
              "      <th>4</th>\n",
              "      <td>365 dni</td>\n",
              "      <td>2020</td>\n",
              "      <td>3.4</td>\n",
              "      <td>Drama, Romance</td>\n",
              "      <td>Massimo is a member of the Sicilian Mafia fami...</td>\n",
              "    </tr>\n",
              "  </tbody>\n",
              "</table>\n",
              "</div>\n",
              "      <button class=\"colab-df-convert\" onclick=\"convertToInteractive('df-783c631a-65b6-4581-8bfe-d6a3ca38d7da')\"\n",
              "              title=\"Convert this dataframe to an interactive table.\"\n",
              "              style=\"display:none;\">\n",
              "        \n",
              "  <svg xmlns=\"http://www.w3.org/2000/svg\" height=\"24px\"viewBox=\"0 0 24 24\"\n",
              "       width=\"24px\">\n",
              "    <path d=\"M0 0h24v24H0V0z\" fill=\"none\"/>\n",
              "    <path d=\"M18.56 5.44l.94 2.06.94-2.06 2.06-.94-2.06-.94-.94-2.06-.94 2.06-2.06.94zm-11 1L8.5 8.5l.94-2.06 2.06-.94-2.06-.94L8.5 2.5l-.94 2.06-2.06.94zm10 10l.94 2.06.94-2.06 2.06-.94-2.06-.94-.94-2.06-.94 2.06-2.06.94z\"/><path d=\"M17.41 7.96l-1.37-1.37c-.4-.4-.92-.59-1.43-.59-.52 0-1.04.2-1.43.59L10.3 9.45l-7.72 7.72c-.78.78-.78 2.05 0 2.83L4 21.41c.39.39.9.59 1.41.59.51 0 1.02-.2 1.41-.59l7.78-7.78 2.81-2.81c.8-.78.8-2.07 0-2.86zM5.41 20L4 18.59l7.72-7.72 1.47 1.35L5.41 20z\"/>\n",
              "  </svg>\n",
              "      </button>\n",
              "      \n",
              "  <style>\n",
              "    .colab-df-container {\n",
              "      display:flex;\n",
              "      flex-wrap:wrap;\n",
              "      gap: 12px;\n",
              "    }\n",
              "\n",
              "    .colab-df-convert {\n",
              "      background-color: #E8F0FE;\n",
              "      border: none;\n",
              "      border-radius: 50%;\n",
              "      cursor: pointer;\n",
              "      display: none;\n",
              "      fill: #1967D2;\n",
              "      height: 32px;\n",
              "      padding: 0 0 0 0;\n",
              "      width: 32px;\n",
              "    }\n",
              "\n",
              "    .colab-df-convert:hover {\n",
              "      background-color: #E2EBFA;\n",
              "      box-shadow: 0px 1px 2px rgba(60, 64, 67, 0.3), 0px 1px 3px 1px rgba(60, 64, 67, 0.15);\n",
              "      fill: #174EA6;\n",
              "    }\n",
              "\n",
              "    [theme=dark] .colab-df-convert {\n",
              "      background-color: #3B4455;\n",
              "      fill: #D2E3FC;\n",
              "    }\n",
              "\n",
              "    [theme=dark] .colab-df-convert:hover {\n",
              "      background-color: #434B5C;\n",
              "      box-shadow: 0px 1px 3px 1px rgba(0, 0, 0, 0.15);\n",
              "      filter: drop-shadow(0px 1px 2px rgba(0, 0, 0, 0.3));\n",
              "      fill: #FFFFFF;\n",
              "    }\n",
              "  </style>\n",
              "\n",
              "      <script>\n",
              "        const buttonEl =\n",
              "          document.querySelector('#df-783c631a-65b6-4581-8bfe-d6a3ca38d7da button.colab-df-convert');\n",
              "        buttonEl.style.display =\n",
              "          google.colab.kernel.accessAllowed ? 'block' : 'none';\n",
              "\n",
              "        async function convertToInteractive(key) {\n",
              "          const element = document.querySelector('#df-783c631a-65b6-4581-8bfe-d6a3ca38d7da');\n",
              "          const dataTable =\n",
              "            await google.colab.kernel.invokeFunction('convertToInteractive',\n",
              "                                                     [key], {});\n",
              "          if (!dataTable) return;\n",
              "\n",
              "          const docLinkHtml = 'Like what you see? Visit the ' +\n",
              "            '<a target=\"_blank\" href=https://colab.research.google.com/notebooks/data_table.ipynb>data table notebook</a>'\n",
              "            + ' to learn more about interactive tables.';\n",
              "          element.innerHTML = '';\n",
              "          dataTable['output_type'] = 'display_data';\n",
              "          await google.colab.output.renderOutput(dataTable, element);\n",
              "          const docLink = document.createElement('div');\n",
              "          docLink.innerHTML = docLinkHtml;\n",
              "          element.appendChild(docLink);\n",
              "        }\n",
              "      </script>\n",
              "    </div>\n",
              "  </div>\n",
              "  "
            ]
          },
          "metadata": {},
          "execution_count": 12
        }
      ]
    },
    {
      "cell_type": "code",
      "source": [
        "import nltk\n",
        "from nltk.stem.snowball import SnowballStemmer\n",
        "import re\n",
        "\n",
        "nltk.download('punkt')\n",
        "# Define tokenize_stem\n",
        "def tokenize_stem(text) :\n",
        "\n",
        "  stemmer = SnowballStemmer(\"english\")\n",
        "\n",
        "  tokens = [word for sent in nltk.sent_tokenize(text) for word in nltk.word_tokenize(sent)]\n",
        "\n",
        "  filtered_tokens = [token for token in tokens if re.search(\"[a-zA-Z0-9]\", token)]\n",
        "\n",
        "  stem_tokens = [stemmer.stem(token) for token in filtered_tokens]\n",
        "\n",
        "  return stem_tokens\n",
        "\n",
        "  \n",
        "\n",
        "tokenize_stem(\"When the Riddler, a sadistic serial killer, begins murdering key political figures in Gotham, Batman is forced to investigate the city's hidden corruption and question his family's involvement.\")"
      ],
      "metadata": {
        "colab": {
          "base_uri": "https://localhost:8080/"
        },
        "id": "4miFuQYPfcJ-",
        "outputId": "8f1d4d8d-1e79-411e-b7a3-388eccc46dc3"
      },
      "execution_count": null,
      "outputs": [
        {
          "output_type": "stream",
          "name": "stdout",
          "text": [
            "[nltk_data] Downloading package punkt to /root/nltk_data...\n",
            "[nltk_data]   Package punkt is already up-to-date!\n"
          ]
        },
        {
          "output_type": "execute_result",
          "data": {
            "text/plain": [
              "['when',\n",
              " 'the',\n",
              " 'riddler',\n",
              " 'a',\n",
              " 'sadist',\n",
              " 'serial',\n",
              " 'killer',\n",
              " 'begin',\n",
              " 'murder',\n",
              " 'key',\n",
              " 'polit',\n",
              " 'figur',\n",
              " 'in',\n",
              " 'gotham',\n",
              " 'batman',\n",
              " 'is',\n",
              " 'forc',\n",
              " 'to',\n",
              " 'investig',\n",
              " 'the',\n",
              " 'citi',\n",
              " \"'s\",\n",
              " 'hidden',\n",
              " 'corrupt',\n",
              " 'and',\n",
              " 'question',\n",
              " 'his',\n",
              " 'famili',\n",
              " \"'s\",\n",
              " 'involv']"
            ]
          },
          "metadata": {},
          "execution_count": 13
        }
      ]
    },
    {
      "cell_type": "code",
      "source": [
        "df[\"score\"] = np.where(df[\"rating\"] >= 8.0, \"Very Good\", df[\"rating\"])\n",
        "df[\"score\"] = np.where((df[\"rating\"] >= 7.0) & (df[\"rating\"] < 8.0), \"Good\", df[\"rating\"])\n",
        "df[\"score\"] = np.where((df[\"rating\"] >= 5.0) & (df[\"rating\"] < 7.0), \"Average\", df[\"rating\"])\n",
        "df[\"score\"] = np.where(df[\"rating\"] < 5.0, \"Below Average\", df[\"rating\"])\n",
        "\n",
        "\n",
        "# Creating soup column\n",
        "\n",
        "def soup() :\n",
        "\n",
        "  return df[\"score\"] + \" \" + df[\"genre\"].str.replace(\",\", \"\") + \" \" + df[\"description\"]\n",
        "\n",
        "df[\"soup\"] = soup()\n",
        "\n",
        "df[df[\"name\"] == \"The Dark Knight\"]"
      ],
      "metadata": {
        "colab": {
          "base_uri": "https://localhost:8080/",
          "height": 50
        },
        "id": "K1NE3vaMkKzg",
        "outputId": "b4a115b5-d023-4184-a836-919eeb4c6196"
      },
      "execution_count": null,
      "outputs": [
        {
          "output_type": "execute_result",
          "data": {
            "text/plain": [
              "Empty DataFrame\n",
              "Columns: [name, year, rating, genre, description, score, soup]\n",
              "Index: []"
            ],
            "text/html": [
              "\n",
              "  <div id=\"df-0d06a48a-0efb-4493-8baa-fc2ab76369b5\">\n",
              "    <div class=\"colab-df-container\">\n",
              "      <div>\n",
              "<style scoped>\n",
              "    .dataframe tbody tr th:only-of-type {\n",
              "        vertical-align: middle;\n",
              "    }\n",
              "\n",
              "    .dataframe tbody tr th {\n",
              "        vertical-align: top;\n",
              "    }\n",
              "\n",
              "    .dataframe thead th {\n",
              "        text-align: right;\n",
              "    }\n",
              "</style>\n",
              "<table border=\"1\" class=\"dataframe\">\n",
              "  <thead>\n",
              "    <tr style=\"text-align: right;\">\n",
              "      <th></th>\n",
              "      <th>name</th>\n",
              "      <th>year</th>\n",
              "      <th>rating</th>\n",
              "      <th>genre</th>\n",
              "      <th>description</th>\n",
              "      <th>score</th>\n",
              "      <th>soup</th>\n",
              "    </tr>\n",
              "  </thead>\n",
              "  <tbody>\n",
              "  </tbody>\n",
              "</table>\n",
              "</div>\n",
              "      <button class=\"colab-df-convert\" onclick=\"convertToInteractive('df-0d06a48a-0efb-4493-8baa-fc2ab76369b5')\"\n",
              "              title=\"Convert this dataframe to an interactive table.\"\n",
              "              style=\"display:none;\">\n",
              "        \n",
              "  <svg xmlns=\"http://www.w3.org/2000/svg\" height=\"24px\"viewBox=\"0 0 24 24\"\n",
              "       width=\"24px\">\n",
              "    <path d=\"M0 0h24v24H0V0z\" fill=\"none\"/>\n",
              "    <path d=\"M18.56 5.44l.94 2.06.94-2.06 2.06-.94-2.06-.94-.94-2.06-.94 2.06-2.06.94zm-11 1L8.5 8.5l.94-2.06 2.06-.94-2.06-.94L8.5 2.5l-.94 2.06-2.06.94zm10 10l.94 2.06.94-2.06 2.06-.94-2.06-.94-.94-2.06-.94 2.06-2.06.94z\"/><path d=\"M17.41 7.96l-1.37-1.37c-.4-.4-.92-.59-1.43-.59-.52 0-1.04.2-1.43.59L10.3 9.45l-7.72 7.72c-.78.78-.78 2.05 0 2.83L4 21.41c.39.39.9.59 1.41.59.51 0 1.02-.2 1.41-.59l7.78-7.78 2.81-2.81c.8-.78.8-2.07 0-2.86zM5.41 20L4 18.59l7.72-7.72 1.47 1.35L5.41 20z\"/>\n",
              "  </svg>\n",
              "      </button>\n",
              "      \n",
              "  <style>\n",
              "    .colab-df-container {\n",
              "      display:flex;\n",
              "      flex-wrap:wrap;\n",
              "      gap: 12px;\n",
              "    }\n",
              "\n",
              "    .colab-df-convert {\n",
              "      background-color: #E8F0FE;\n",
              "      border: none;\n",
              "      border-radius: 50%;\n",
              "      cursor: pointer;\n",
              "      display: none;\n",
              "      fill: #1967D2;\n",
              "      height: 32px;\n",
              "      padding: 0 0 0 0;\n",
              "      width: 32px;\n",
              "    }\n",
              "\n",
              "    .colab-df-convert:hover {\n",
              "      background-color: #E2EBFA;\n",
              "      box-shadow: 0px 1px 2px rgba(60, 64, 67, 0.3), 0px 1px 3px 1px rgba(60, 64, 67, 0.15);\n",
              "      fill: #174EA6;\n",
              "    }\n",
              "\n",
              "    [theme=dark] .colab-df-convert {\n",
              "      background-color: #3B4455;\n",
              "      fill: #D2E3FC;\n",
              "    }\n",
              "\n",
              "    [theme=dark] .colab-df-convert:hover {\n",
              "      background-color: #434B5C;\n",
              "      box-shadow: 0px 1px 3px 1px rgba(0, 0, 0, 0.15);\n",
              "      filter: drop-shadow(0px 1px 2px rgba(0, 0, 0, 0.3));\n",
              "      fill: #FFFFFF;\n",
              "    }\n",
              "  </style>\n",
              "\n",
              "      <script>\n",
              "        const buttonEl =\n",
              "          document.querySelector('#df-0d06a48a-0efb-4493-8baa-fc2ab76369b5 button.colab-df-convert');\n",
              "        buttonEl.style.display =\n",
              "          google.colab.kernel.accessAllowed ? 'block' : 'none';\n",
              "\n",
              "        async function convertToInteractive(key) {\n",
              "          const element = document.querySelector('#df-0d06a48a-0efb-4493-8baa-fc2ab76369b5');\n",
              "          const dataTable =\n",
              "            await google.colab.kernel.invokeFunction('convertToInteractive',\n",
              "                                                     [key], {});\n",
              "          if (!dataTable) return;\n",
              "\n",
              "          const docLinkHtml = 'Like what you see? Visit the ' +\n",
              "            '<a target=\"_blank\" href=https://colab.research.google.com/notebooks/data_table.ipynb>data table notebook</a>'\n",
              "            + ' to learn more about interactive tables.';\n",
              "          element.innerHTML = '';\n",
              "          dataTable['output_type'] = 'display_data';\n",
              "          await google.colab.output.renderOutput(dataTable, element);\n",
              "          const docLink = document.createElement('div');\n",
              "          docLink.innerHTML = docLinkHtml;\n",
              "          element.appendChild(docLink);\n",
              "        }\n",
              "      </script>\n",
              "    </div>\n",
              "  </div>\n",
              "  "
            ]
          },
          "metadata": {},
          "execution_count": 14
        }
      ]
    },
    {
      "cell_type": "code",
      "source": [
        "#Tf-idf Vectorizer\n",
        "\n",
        "from sklearn.feature_extraction.text import TfidfVectorizer\n",
        "from sklearn.metrics.pairwise import cosine_similarity\n",
        "\n",
        "tfidf_vectorizer = TfidfVectorizer(use_idf = True, stop_words = \"english\")\n",
        "tfidf_matrix = tfidf_vectorizer.fit_transform(df[\"soup\"])\n",
        "\n",
        "print(tfidf_matrix.shape)\n",
        "\n",
        "cosine_sim2 = cosine_similarity(tfidf_matrix, tfidf_matrix)"
      ],
      "metadata": {
        "colab": {
          "base_uri": "https://localhost:8080/"
        },
        "id": "47nROouXkq0Q",
        "outputId": "50ad91e5-b96c-4d74-af93-31d0ce1fadd2"
      },
      "execution_count": null,
      "outputs": [
        {
          "output_type": "stream",
          "name": "stdout",
          "text": [
            "(150, 1394)\n"
          ]
        }
      ]
    },
    {
      "cell_type": "code",
      "source": [
        "#Indices\n",
        "\n",
        "indices = pd.Series(df.index, index = df[\"name\"]).drop_duplicates()\n",
        "\n",
        "print(indices)"
      ],
      "metadata": {
        "id": "CLTE2flbEglY",
        "colab": {
          "base_uri": "https://localhost:8080/"
        },
        "outputId": "eb295268-edf7-4d20-c4f1-f2965a4835b5"
      },
      "execution_count": null,
      "outputs": [
        {
          "output_type": "stream",
          "name": "stdout",
          "text": [
            "name\n",
            "Licorice Pizza               0\n",
            "West Side Story              1\n",
            "The Power of the Dog         2\n",
            "Verdens verste menneske      3\n",
            "365 dni                      4\n",
            "                          ... \n",
            "Sixteen Candles            145\n",
            "Gehraiyaan                 146\n",
            "Marriage Story             147\n",
            "Cast Away                  148\n",
            "Beauty and the Beast       149\n",
            "Length: 150, dtype: int64\n"
          ]
        }
      ]
    },
    {
      "cell_type": "code",
      "source": [
        "#Recommendation function\n",
        "\n",
        "def get_recommendation(title, cosine_sim) :\n",
        "  idx = indices[title]\n",
        "  similarity_scores = list(enumerate(cosine_sim[idx]))\n",
        "  similarity_scores = sorted(similarity_scores, key = lambda x : x[1], reverse = True)\n",
        "  similarity_scores = similarity_scores[1 : 11]\n",
        "\n",
        "  movies_indices = [ind[0] for ind in similarity_scores]\n",
        "  movies = df[\"name\"].iloc[movies_indices]\n",
        "\n",
        "  return movies\n",
        "\n",
        "print(get_recommendation(\"Eternal \", cosine_sim2))"
      ],
      "metadata": {
        "colab": {
          "base_uri": "https://localhost:8080/"
        },
        "id": "PGsiL3hsbb8x",
        "outputId": "1e539e8f-eb1e-420d-b17e-a3e18b563c86"
      },
      "execution_count": null,
      "outputs": [
        {
          "output_type": "stream",
          "name": "stdout",
          "text": [
            "94                            Pretty Woman\n",
            "132                    Legends of the Fall\n",
            "47                                  Malèna\n",
            "141                    The English Patient\n",
            "97                      Sweet Home Alabama\n",
            "46                          La vie d'Adèle\n",
            "137                         Nine 1/2 Weeks\n",
            "23                      The Princess Bride\n",
            "108    The Curious Case of Benjamin Button\n",
            "100                          Me Before You\n",
            "Name: name, dtype: object\n"
          ]
        }
      ]
    },
    {
      "cell_type": "code",
      "source": [
        "# KMeans\n",
        "\n",
        "from sklearn.cluster import KMeans\n",
        "\n",
        "krange = range(1,11)\n",
        "\n",
        "scores = []\n",
        "for k in krange :\n",
        "  km_new = KMeans(n_clusters = k)\n",
        "  km_new.fit(tfidf_matrix)\n",
        "  scores.append(km_new.inertia_)\n",
        "\n",
        "  \n",
        "plt.plot(krange, scores, 'bx-')\n",
        "plt.xlabel('k')\n",
        "plt.ylabel('Score')\n",
        "plt.title('The Elbow Method showing the optimal k')\n",
        "plt.show()"
      ],
      "metadata": {
        "colab": {
          "base_uri": "https://localhost:8080/",
          "height": 295
        },
        "id": "c5pqYjutg8Bp",
        "outputId": "e78dc54c-f15a-417c-ee5f-d7daec18460e"
      },
      "execution_count": null,
      "outputs": [
        {
          "output_type": "display_data",
          "data": {
            "text/plain": [
              "<Figure size 432x288 with 1 Axes>"
            ],
            "image/png": "[encoded data removed]"
          },
          "metadata": {
            "needs_background": "light"
          }
        }
      ]
    },
    {
      "cell_type": "code",
      "source": [
        ""
      ],
      "metadata": {
        "id": "uLzN73wFl3EL"
      },
      "execution_count": null,
      "outputs": []
    }
  ]
}